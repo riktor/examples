{
 "cells": [
  {
   "cell_type": "code",
   "execution_count": 1,
   "metadata": {
    "autoscroll": false,
    "collapsed": false,
    "ein.tags": "worksheet-0",
    "slideshow": {
     "slide_type": "-"
    }
   },
   "outputs": [],
   "source": [
    "(eval-and-compile\n",
    " (import sys)\n",
    " (sys.path.append \"/home/riktor/.hy\"))\n",
    "(eval-and-compile\n",
    " (require (utils (*)))\n",
    " (import-sci))\n"
   ]
  },
  {
   "cell_type": "code",
   "execution_count": 2,
   "metadata": {
    "autoscroll": false,
    "collapsed": false,
    "ein.tags": "worksheet-0",
    "slideshow": {
     "slide_type": "-"
    }
   },
   "outputs": [],
   "source": [
    "(setf df (pd.read-csv \"2016-FCC-New-Coders-Survey-Data.csv\"))"
   ]
  },
  {
   "cell_type": "code",
   "execution_count": 8,
   "metadata": {
    "autoscroll": false,
    "collapsed": false,
    "ein.tags": "worksheet-0",
    "slideshow": {
     "slide_type": "-"
    }
   },
   "outputs": [
    {
     "data": {
      "text/plain": [
       "(15620, 113)"
      ]
     },
     "execution_count": 8,
     "metadata": {},
     "output_type": "execute_result"
    }
   ],
   "source": [
    "df.shape"
   ]
  },
  {
   "cell_type": "code",
   "execution_count": 9,
   "metadata": {
    "autoscroll": false,
    "collapsed": false,
    "ein.tags": "worksheet-0",
    "slideshow": {
     "slide_type": "-"
    }
   },
   "outputs": [
    {
     "name": "stdout",
     "output_type": "stream",
     "text": [
      "<class 'pandas.core.frame.DataFrame'>\n",
      "RangeIndex: 15620 entries, 0 to 15619\n",
      "Columns: 113 entries, Age to StudentDebtOwe\n",
      "dtypes: float64(85), object(28)\n",
      "memory usage: 13.5+ MB\n"
     ]
    }
   ],
   "source": [
    "(df.info)"
   ]
  },
  {
   "cell_type": "code",
   "execution_count": 10,
   "metadata": {
    "autoscroll": false,
    "collapsed": false,
    "ein.tags": "worksheet-0",
    "slideshow": {
     "slide_type": "-"
    }
   },
   "outputs": [
    {
     "data": {
      "text/plain": [
       "                Age  AttendedBootcamp  BootcampFinish  BootcampFullJobAfter  \\\n",
       "count  13613.000000      15380.000000      933.000000            635.000000   \n",
       "mean      29.175421          0.061964        0.689175              0.584252   \n",
       "std        9.017716          0.241097        0.463080              0.493239   \n",
       "min       10.000000          0.000000        0.000000              0.000000   \n",
       "25%       23.000000          0.000000        0.000000              0.000000   \n",
       "50%       27.000000          0.000000        1.000000              1.000000   \n",
       "75%       33.000000          0.000000        1.000000              1.000000   \n",
       "max       86.000000          1.000000        1.000000              1.000000   \n",
       "\n",
       "       BootcampLoanYesNo  BootcampMonthsAgo  BootcampPostSalary  \\\n",
       "count         934.000000         631.000000          330.000000   \n",
       "mean            0.332976           9.055468        63740.506061   \n",
       "std             0.471531          12.968035        26347.200265   \n",
       "min             0.000000           0.000000         6000.000000   \n",
       "25%             0.000000           3.000000        50000.000000   \n",
       "50%             0.000000           6.000000        60000.000000   \n",
       "75%             1.000000          12.000000        77000.000000   \n",
       "max             1.000000         220.000000       200000.000000   \n",
       "\n",
       "       BootcampRecommend  ChildrenNumber  CodeEventBootcamp       ...        \\\n",
       "count         937.000000     2554.000000               42.0       ...         \n",
       "mean            0.785486        1.896241                1.0       ...         \n",
       "std             0.410704        1.115975                0.0       ...         \n",
       "min             0.000000        0.000000                1.0       ...         \n",
       "25%             1.000000        1.000000                1.0       ...         \n",
       "50%             1.000000        2.000000                1.0       ...         \n",
       "75%             1.000000        2.000000                1.0       ...         \n",
       "max             1.000000       18.000000                1.0       ...         \n",
       "\n",
       "       ResourceReddit  ResourceSkillCrush  ResourceSoloLearn  \\\n",
       "count            29.0                36.0               30.0   \n",
       "mean              1.0                 1.0                1.0   \n",
       "std               0.0                 0.0                0.0   \n",
       "min               1.0                 1.0                1.0   \n",
       "25%               1.0                 1.0                1.0   \n",
       "50%               1.0                 1.0                1.0   \n",
       "75%               1.0                 1.0                1.0   \n",
       "max               1.0                 1.0                1.0   \n",
       "\n",
       "       ResourceStackOverflow  ResourceTreehouse  ResourceUdacity  \\\n",
       "count                  191.0              422.0           3306.0   \n",
       "mean                     1.0                1.0              1.0   \n",
       "std                      0.0                0.0              0.0   \n",
       "min                      1.0                1.0              1.0   \n",
       "25%                      1.0                1.0              1.0   \n",
       "50%                      1.0                1.0              1.0   \n",
       "75%                      1.0                1.0              1.0   \n",
       "max                      1.0                1.0              1.0   \n",
       "\n",
       "       ResourceUdemy  ResourceW3Schools  ResourceYouTube  StudentDebtOwe  \n",
       "count         4130.0              121.0            121.0     3514.000000  \n",
       "mean             1.0                1.0              1.0    34556.143711  \n",
       "std              0.0                0.0              0.0    54423.139781  \n",
       "min              1.0                1.0              1.0        0.000000  \n",
       "25%              1.0                1.0              1.0    10000.000000  \n",
       "50%              1.0                1.0              1.0    20000.000000  \n",
       "75%              1.0                1.0              1.0    40000.000000  \n",
       "max              1.0                1.0              1.0  1000000.000000  \n",
       "\n",
       "[8 rows x 85 columns]"
      ]
     },
     "execution_count": 10,
     "metadata": {},
     "output_type": "execute_result"
    }
   ],
   "source": [
    "(df.describe)"
   ]
  },
  {
   "cell_type": "code",
   "execution_count": 11,
   "metadata": {
    "autoscroll": false,
    "collapsed": false,
    "ein.tags": "worksheet-0",
    "slideshow": {
     "slide_type": "-"
    }
   },
   "outputs": [
    {
     "data": {
      "text/plain": [
       "<matplotlib.axes._subplots.AxesSubplot object at 0x7f107d7c5c88>"
      ]
     },
     "execution_count": 11,
     "metadata": {},
     "output_type": "execute_result"
    }
   ],
   "source": [
    "(sns.countplot 'Gender :data df)"
   ]
  },
  {
   "cell_type": "code",
   "execution_count": 12,
   "metadata": {
    "autoscroll": false,
    "collapsed": false,
    "ein.tags": "worksheet-0",
    "slideshow": {
     "slide_type": "-"
    }
   },
   "outputs": [
    {
     "name": "stdout",
     "output_type": "stream",
     "text": [
      "/tmp/tmp92qbfltg.png"
     ]
    },
    {
     "name": "stdout",
     "output_type": "stream",
     "text": [
      "\n"
     ]
    }
   ],
   "source": [
    "(vis)"
   ]
  },
  {
   "cell_type": "code",
   "execution_count": 14,
   "metadata": {
    "autoscroll": false,
    "collapsed": false,
    "ein.tags": "worksheet-0",
    "slideshow": {
     "slide_type": "-"
    }
   },
   "outputs": [],
   "source": [
    "(setf dataset (np.random.randn 100))"
   ]
  },
  {
   "cell_type": "code",
   "execution_count": 17,
   "metadata": {
    "autoscroll": false,
    "collapsed": false,
    "ein.tags": "worksheet-0",
    "slideshow": {
     "slide_type": "-"
    }
   },
   "outputs": [
    {
     "name": "stdout",
     "output_type": "stream",
     "text": [
      "/tmp/tmpfx4osssr.png"
     ]
    },
    {
     "name": "stdout",
     "output_type": "stream",
     "text": [
      "\n"
     ]
    }
   ],
   "source": [
    "(rvis (plt.hist dataset)) "
   ]
  },
  {
   "cell_type": "code",
   "execution_count": 18,
   "metadata": {
    "autoscroll": false,
    "collapsed": false,
    "ein.tags": "worksheet-0",
    "slideshow": {
     "slide_type": "-"
    }
   },
   "outputs": [
    {
     "data": {
      "text/plain": [
       "<matplotlib.axes._subplots.AxesSubplot object at 0x7f107d7c3da0>"
      ]
     },
     "execution_count": 18,
     "metadata": {},
     "output_type": "execute_result"
    }
   ],
   "source": [
    "(sns.countplot 'HasChildren :data df)"
   ]
  },
  {
   "cell_type": "code",
   "execution_count": 20,
   "metadata": {
    "autoscroll": false,
    "collapsed": false,
    "ein.tags": "worksheet-0",
    "slideshow": {
     "slide_type": "-"
    }
   },
   "outputs": [
    {
     "name": "stdout",
     "output_type": "stream",
     "text": [
      "/tmp/tmpf__jubx0.png"
     ]
    },
    {
     "name": "stdout",
     "output_type": "stream",
     "text": [
      "\n"
     ]
    }
   ],
   "source": [
    "(vis)\n"
   ]
  },
  {
   "cell_type": "code",
   "execution_count": 42,
   "metadata": {
    "autoscroll": false,
    "collapsed": false,
    "ein.tags": "worksheet-0",
    "slideshow": {
     "slide_type": "-"
    }
   },
   "outputs": [
    {
     "data": {
      "text/plain": [
       "<matplotlib.axes._subplots.AxesSubplot object at 0x7fe413085748>"
      ]
     },
     "execution_count": 42,
     "metadata": {},
     "output_type": "execute_result"
    }
   ],
   "source": [
    "(sns.countplot 'EmploymentStatus :data df)"
   ]
  },
  {
   "cell_type": "code",
   "execution_count": 37,
   "metadata": {
    "autoscroll": false,
    "collapsed": false,
    "ein.tags": "worksheet-0",
    "slideshow": {
     "slide_type": "-"
    }
   },
   "outputs": [
    {
     "name": "stdout",
     "output_type": "stream",
     "text": [
      "/tmp/tmp3g_yc35_.png"
     ]
    },
    {
     "name": "stdout",
     "output_type": "stream",
     "text": [
      "\n"
     ]
    }
   ],
   "source": [
    "(vis)"
   ]
  },
  {
   "cell_type": "code",
   "execution_count": 56,
   "metadata": {
    "autoscroll": false,
    "collapsed": false,
    "ein.tags": "worksheet-0",
    "slideshow": {
     "slide_type": "-"
    }
   },
   "outputs": [
    {
     "name": "stdout",
     "output_type": "stream",
     "text": [
      "/tmp/tmpk0hl0hda.png"
     ]
    },
    {
     "name": "stdout",
     "output_type": "stream",
     "text": [
      "\n"
     ]
    }
   ],
   "source": [
    "(rvis '(18 4) (sns.countplot :y 'EmploymentStatus :data df))"
   ]
  },
  {
   "cell_type": "code",
   "execution_count": 57,
   "metadata": {
    "autoscroll": false,
    "collapsed": false,
    "ein.tags": "worksheet-0",
    "slideshow": {
     "slide_type": "-"
    }
   },
   "outputs": [
    {
     "name": "stdout",
     "output_type": "stream",
     "text": [
      "/tmp/tmpi7srz3fd.png"
     ]
    },
    {
     "name": "stdout",
     "output_type": "stream",
     "text": [
      "\n"
     ]
    }
   ],
   "source": [
    "(rvis '(10 4) (sns.countplot 'Age :data df))"
   ]
  },
  {
   "cell_type": "code",
   "execution_count": 19,
   "metadata": {
    "autoscroll": false,
    "collapsed": false,
    "ein.tags": "worksheet-0",
    "slideshow": {
     "slide_type": "-"
    }
   },
   "outputs": [
    {
     "name": "stdout",
     "output_type": "stream",
     "text": [
      "/tmp/tmp2q_96fzp.png"
     ]
    },
    {
     "name": "stdout",
     "output_type": "stream",
     "text": [
      "\n"
     ]
    }
   ],
   "source": [
    "(rvis () (sns.kdeplot (.dropna (get df 'Age)  :how 'all))) "
   ]
  },
  {
   "cell_type": "code",
   "execution_count": 58,
   "metadata": {
    "autoscroll": false,
    "collapsed": false,
    "ein.tags": "worksheet-0",
    "slideshow": {
     "slide_type": "-"
    }
   },
   "outputs": [
    {
     "name": "stdout",
     "output_type": "stream",
     "text": [
      "/tmp/tmp4zqmn59h.png"
     ]
    },
    {
     "name": "stdout",
     "output_type": "stream",
     "text": [
      "\n"
     ]
    }
   ],
   "source": [
    "(setf dataset (np.random.randn 30))\n",
    "(rvis () (plt.hist dataset :alpha 0.5) (sns.rugplot dataset))\n"
   ]
  },
  {
   "cell_type": "code",
   "execution_count": 22,
   "metadata": {
    "autoscroll": false,
    "collapsed": false,
    "ein.tags": "worksheet-0",
    "slideshow": {
     "slide_type": "-"
    }
   },
   "outputs": [
    {
     "name": "stdout",
     "output_type": "stream",
     "text": [
      "/tmp/tmptflrw1s5.png"
     ]
    },
    {
     "name": "stdout",
     "output_type": "stream",
     "text": [
      "\n"
     ]
    }
   ],
   "source": [
    "(rvis () (sns.kdeplot dataset)) "
   ]
  },
  {
   "cell_type": "code",
   "execution_count": 49,
   "metadata": {
    "autoscroll": false,
    "collapsed": false,
    "ein.tags": "worksheet-0",
    "slideshow": {
     "slide_type": "-"
    }
   },
   "outputs": [
    {
     "name": "stdout",
     "output_type": "stream",
     "text": [
      "/tmp/tmp2m4jbnlu.png"
     ]
    },
    {
     "name": "stdout",
     "output_type": "stream",
     "text": [
      "\n"
     ]
    }
   ],
   "source": [
    "(rvis ()\n",
    "      (iter\n",
    "        (_for bw in (np.arange 0.5 2 0.5))\n",
    "        (sns.kdeplot dataset :bw bw :label bw)))"
   ]
  },
  {
   "cell_type": "code",
   "execution_count": 45,
   "metadata": {
    "autoscroll": false,
    "collapsed": false,
    "ein.tags": "worksheet-0",
    "slideshow": {
     "slide_type": "-"
    }
   },
   "outputs": [
    {
     "name": "stdout",
     "output_type": "stream",
     "text": [
      "/tmp/tmpjb50orvt.png"
     ]
    },
    {
     "name": "stdout",
     "output_type": "stream",
     "text": [
      "\n"
     ]
    }
   ],
   "source": [
    "(rvis () (sns.boxplot (get df 'Income)))"
   ]
  },
  {
   "cell_type": "code",
   "execution_count": 47,
   "metadata": {
    "autoscroll": false,
    "collapsed": false,
    "ein.tags": "worksheet-0",
    "slideshow": {
     "slide_type": "-"
    }
   },
   "outputs": [
    {
     "name": "stdout",
     "output_type": "stream",
     "text": [
      "/tmp/tmpn9wprqay.png"
     ]
    },
    {
     "name": "stdout",
     "output_type": "stream",
     "text": [
      "\n"
     ]
    }
   ],
   "source": [
    "(rvis () (sns.violinplot  (get df 'Income)))"
   ]
  },
  {
   "cell_type": "code",
   "execution_count": 48,
   "metadata": {
    "autoscroll": false,
    "collapsed": false,
    "ein.tags": "worksheet-0",
    "slideshow": {
     "slide_type": "-"
    }
   },
   "outputs": [
    {
     "name": "stdout",
     "output_type": "stream",
     "text": [
      "/tmp/tmpmj100cp0.png"
     ]
    },
    {
     "name": "stdout",
     "output_type": "stream",
     "text": [
      "\n"
     ]
    }
   ],
   "source": [
    "(rvis ()\n",
    "      (setf hours-learning (.dropna (get df 'HoursLearning)))\n",
    "      (sns.distplot hours-learning))"
   ]
  },
  {
   "cell_type": "code",
   "execution_count": null,
   "metadata": {
    "autoscroll": false,
    "collapsed": false,
    "ein.tags": "worksheet-0",
    "slideshow": {
     "slide_type": "-"
    }
   },
   "outputs": [],
   "source": []
  }
 ],
 "metadata": {
  "kernelspec": {
   "display_name": "Calysto Hy",
   "name": "calysto_hy"
  },
  "name": "Untitled9.ipynb"
 },
 "nbformat": 4,
 "nbformat_minor": 2
}
